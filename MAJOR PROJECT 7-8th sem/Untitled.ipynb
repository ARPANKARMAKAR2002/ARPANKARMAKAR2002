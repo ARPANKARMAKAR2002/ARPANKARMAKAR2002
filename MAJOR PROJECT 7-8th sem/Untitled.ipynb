{
 "cells": [
  {
   "cell_type": "code",
   "execution_count": 1,
   "id": "41a1a22d-6758-461c-805c-bf8004e5dd1a",
   "metadata": {},
   "outputs": [],
   "source": [
    "import pandas as pd"
   ]
  },
  {
   "cell_type": "code",
   "execution_count": 2,
   "id": "677cb044-6668-4122-8ddd-70ca8728cc91",
   "metadata": {},
   "outputs": [],
   "source": [
    "occupancy=pd.read_csv('synthetic_parking_occupancy_data.csv')"
   ]
  },
  {
   "cell_type": "code",
   "execution_count": 4,
   "id": "6c84b85b-6718-4afe-aaa8-d8a32034ce70",
   "metadata": {},
   "outputs": [
    {
     "data": {
      "text/html": [
       "<div>\n",
       "<style scoped>\n",
       "    .dataframe tbody tr th:only-of-type {\n",
       "        vertical-align: middle;\n",
       "    }\n",
       "\n",
       "    .dataframe tbody tr th {\n",
       "        vertical-align: top;\n",
       "    }\n",
       "\n",
       "    .dataframe thead th {\n",
       "        text-align: right;\n",
       "    }\n",
       "</style>\n",
       "<table border=\"1\" class=\"dataframe\">\n",
       "  <thead>\n",
       "    <tr style=\"text-align: right;\">\n",
       "      <th></th>\n",
       "      <th>timestamp</th>\n",
       "      <th>parking_space_id</th>\n",
       "      <th>occupancy_status</th>\n",
       "      <th>day_of_week</th>\n",
       "      <th>hour_of_day</th>\n",
       "    </tr>\n",
       "  </thead>\n",
       "  <tbody>\n",
       "    <tr>\n",
       "      <th>0</th>\n",
       "      <td>2023-08-01 00:00:00</td>\n",
       "      <td>1</td>\n",
       "      <td>1</td>\n",
       "      <td>1</td>\n",
       "      <td>0</td>\n",
       "    </tr>\n",
       "    <tr>\n",
       "      <th>1</th>\n",
       "      <td>2023-08-01 01:00:00</td>\n",
       "      <td>1</td>\n",
       "      <td>0</td>\n",
       "      <td>1</td>\n",
       "      <td>1</td>\n",
       "    </tr>\n",
       "    <tr>\n",
       "      <th>2</th>\n",
       "      <td>2023-08-01 02:00:00</td>\n",
       "      <td>1</td>\n",
       "      <td>0</td>\n",
       "      <td>1</td>\n",
       "      <td>2</td>\n",
       "    </tr>\n",
       "    <tr>\n",
       "      <th>3</th>\n",
       "      <td>2023-08-01 03:00:00</td>\n",
       "      <td>1</td>\n",
       "      <td>1</td>\n",
       "      <td>1</td>\n",
       "      <td>3</td>\n",
       "    </tr>\n",
       "    <tr>\n",
       "      <th>4</th>\n",
       "      <td>2023-08-01 04:00:00</td>\n",
       "      <td>1</td>\n",
       "      <td>0</td>\n",
       "      <td>1</td>\n",
       "      <td>4</td>\n",
       "    </tr>\n",
       "    <tr>\n",
       "      <th>5</th>\n",
       "      <td>2023-08-01 05:00:00</td>\n",
       "      <td>1</td>\n",
       "      <td>1</td>\n",
       "      <td>1</td>\n",
       "      <td>5</td>\n",
       "    </tr>\n",
       "    <tr>\n",
       "      <th>6</th>\n",
       "      <td>2023-08-01 06:00:00</td>\n",
       "      <td>1</td>\n",
       "      <td>0</td>\n",
       "      <td>1</td>\n",
       "      <td>6</td>\n",
       "    </tr>\n",
       "    <tr>\n",
       "      <th>7</th>\n",
       "      <td>2023-08-01 07:00:00</td>\n",
       "      <td>1</td>\n",
       "      <td>1</td>\n",
       "      <td>1</td>\n",
       "      <td>7</td>\n",
       "    </tr>\n",
       "    <tr>\n",
       "      <th>8</th>\n",
       "      <td>2023-08-01 08:00:00</td>\n",
       "      <td>1</td>\n",
       "      <td>0</td>\n",
       "      <td>1</td>\n",
       "      <td>8</td>\n",
       "    </tr>\n",
       "    <tr>\n",
       "      <th>9</th>\n",
       "      <td>2023-08-01 09:00:00</td>\n",
       "      <td>1</td>\n",
       "      <td>0</td>\n",
       "      <td>1</td>\n",
       "      <td>9</td>\n",
       "    </tr>\n",
       "  </tbody>\n",
       "</table>\n",
       "</div>"
      ],
      "text/plain": [
       "             timestamp  parking_space_id  occupancy_status  day_of_week  \\\n",
       "0  2023-08-01 00:00:00                 1                 1            1   \n",
       "1  2023-08-01 01:00:00                 1                 0            1   \n",
       "2  2023-08-01 02:00:00                 1                 0            1   \n",
       "3  2023-08-01 03:00:00                 1                 1            1   \n",
       "4  2023-08-01 04:00:00                 1                 0            1   \n",
       "5  2023-08-01 05:00:00                 1                 1            1   \n",
       "6  2023-08-01 06:00:00                 1                 0            1   \n",
       "7  2023-08-01 07:00:00                 1                 1            1   \n",
       "8  2023-08-01 08:00:00                 1                 0            1   \n",
       "9  2023-08-01 09:00:00                 1                 0            1   \n",
       "\n",
       "   hour_of_day  \n",
       "0            0  \n",
       "1            1  \n",
       "2            2  \n",
       "3            3  \n",
       "4            4  \n",
       "5            5  \n",
       "6            6  \n",
       "7            7  \n",
       "8            8  \n",
       "9            9  "
      ]
     },
     "execution_count": 4,
     "metadata": {},
     "output_type": "execute_result"
    }
   ],
   "source": [
    "occupancy.head(10)"
   ]
  },
  {
   "cell_type": "code",
   "execution_count": 5,
   "id": "73d29fa7-68c7-4692-9034-8abb4ee00abd",
   "metadata": {},
   "outputs": [
    {
     "data": {
      "text/plain": [
       "(52566, 5)"
      ]
     },
     "execution_count": 5,
     "metadata": {},
     "output_type": "execute_result"
    }
   ],
   "source": [
    "occupancy.shape"
   ]
  },
  {
   "cell_type": "code",
   "execution_count": 6,
   "id": "937b056d-09bb-4506-ad50-0b0f8034279e",
   "metadata": {},
   "outputs": [
    {
     "data": {
      "text/plain": [
       "<bound method DataFrame.info of                  timestamp  parking_space_id  occupancy_status  day_of_week  \\\n",
       "0      2023-08-01 00:00:00                 1                 1            1   \n",
       "1      2023-08-01 01:00:00                 1                 0            1   \n",
       "2      2023-08-01 02:00:00                 1                 0            1   \n",
       "3      2023-08-01 03:00:00                 1                 1            1   \n",
       "4      2023-08-01 04:00:00                 1                 0            1   \n",
       "...                    ...               ...               ...          ...   \n",
       "52561  2024-07-30 20:00:00                 6                 1            1   \n",
       "52562  2024-07-30 21:00:00                 6                 0            1   \n",
       "52563  2024-07-30 22:00:00                 6                 1            1   \n",
       "52564  2024-07-30 23:00:00                 6                 0            1   \n",
       "52565  2024-07-31 00:00:00                 6                 0            2   \n",
       "\n",
       "       hour_of_day  \n",
       "0                0  \n",
       "1                1  \n",
       "2                2  \n",
       "3                3  \n",
       "4                4  \n",
       "...            ...  \n",
       "52561           20  \n",
       "52562           21  \n",
       "52563           22  \n",
       "52564           23  \n",
       "52565            0  \n",
       "\n",
       "[52566 rows x 5 columns]>"
      ]
     },
     "execution_count": 6,
     "metadata": {},
     "output_type": "execute_result"
    }
   ],
   "source": [
    "occupancy.info"
   ]
  },
  {
   "cell_type": "code",
   "execution_count": null,
   "id": "fc9e88fb-7e57-4185-9f96-19dda0088ddb",
   "metadata": {},
   "outputs": [],
   "source": []
  }
 ],
 "metadata": {
  "kernelspec": {
   "display_name": "Python 3 (ipykernel)",
   "language": "python",
   "name": "python3"
  },
  "language_info": {
   "codemirror_mode": {
    "name": "ipython",
    "version": 3
   },
   "file_extension": ".py",
   "mimetype": "text/x-python",
   "name": "python",
   "nbconvert_exporter": "python",
   "pygments_lexer": "ipython3",
   "version": "3.12.3"
  }
 },
 "nbformat": 4,
 "nbformat_minor": 5
}
